{
 "cells": [
  {
   "cell_type": "markdown",
   "source": [
    "# Predict Customer Lifetime"
   ],
   "metadata": {
    "collapsed": false
   }
  },
  {
   "cell_type": "code",
   "execution_count": 1,
   "metadata": {},
   "outputs": [
    {
     "name": "stderr",
     "output_type": "stream",
     "text": [
      "Using `tqdm.autonotebook.tqdm` in notebook mode. Use `tqdm.tqdm` instead to force console mode (e.g. in jupyter console)\n"
     ]
    }
   ],
   "source": [
    "import numpy as np\n",
    "import pandas as pd\n",
    "import matplotlib.pyplot as plt\n",
    "import seaborn as sns\n",
    "\n",
    "from sklearn.ensemble import GradientBoostingRegressor, GradientBoostingClassifier\n",
    "from sklearn import metrics\n",
    "from sklearn.metrics import r2_score\n",
    "from sklearn.metrics import confusion_matrix\n",
    "from sklearn.metrics import ConfusionMatrixDisplay\n",
    "from sklearn.metrics import precision_recall_curve\n",
    "from sklearn.metrics import PrecisionRecallDisplay\n",
    "import shap\n",
    "\n",
    "from lifelines import ExponentialFitter, GeneralizedGammaRegressionFitter\n",
    "from lifelines import WeibullFitter, LogNormalFitter, LogLogisticFitter\n",
    "from lifelines import LogNormalAFTFitter, LogLogisticAFTFitter, WeibullAFTFitter, CoxPHFitter\n",
    "\n",
    "from lifelines.utils import concordance_index\n",
    "from lifelines.plotting import qq_plot\n",
    "from lifelines.utils import find_best_parametric_model\n",
    "\n",
    "from sksurv.ensemble import GradientBoostingSurvivalAnalysis\n",
    "from sksurv.util import Surv\n",
    "\n",
    "# import custom data class\n",
    "from data.processing.processing import ChurnData"
   ]
  },
  {
   "cell_type": "code",
   "execution_count": 2,
   "metadata": {},
   "outputs": [],
   "source": [
    "# import churn dataset\n",
    "data = ChurnData(filename='data/telco_customer_churn.csv', testsize=.33, seed=123)\n",
    "data.load_data()\n",
    "data.process_data()"
   ]
  },
  {
   "cell_type": "code",
   "execution_count": 3,
   "outputs": [
    {
     "data": {
      "text/plain": "   SeniorCitizen  tenure  MonthlyCharges  TotalCharges  gender_Male  \\\n0              0   1.001              29            29            0   \n1              0  34.001              56          1889            1   \n2              0   2.001              53           108            1   \n3              0  45.001              42          1840            1   \n4              0   2.001              70           151            0   \n\n   Partner_Yes  Dependents_Yes  PhoneService_Yes  \\\n0            1               0                 0   \n1            0               0                 1   \n2            0               0                 1   \n3            0               0                 0   \n4            0               0                 1   \n\n   MultipleLines_No phone service  MultipleLines_Yes  ...  StreamingTV_Yes  \\\n0                               1                  0  ...                0   \n1                               0                  0  ...                0   \n2                               0                  0  ...                0   \n3                               1                  0  ...                0   \n4                               0                  0  ...                0   \n\n   StreamingMovies_No internet service  StreamingMovies_Yes  \\\n0                                    0                    0   \n1                                    0                    0   \n2                                    0                    0   \n3                                    0                    0   \n4                                    0                    0   \n\n   Contract_One year  Contract_Two year  PaperlessBilling_Yes  \\\n0                  0                  0                     1   \n1                  1                  0                     0   \n2                  0                  0                     1   \n3                  1                  0                     0   \n4                  0                  0                     1   \n\n   PaymentMethod_Credit card (automatic)  PaymentMethod_Electronic check  \\\n0                                      0                               1   \n1                                      0                               0   \n2                                      0                               0   \n3                                      0                               0   \n4                                      0                               1   \n\n   PaymentMethod_Mailed check  Churn_Yes  \n0                           0          0  \n1                           1          0  \n2                           1          1  \n3                           0          0  \n4                           0          1  \n\n[5 rows x 31 columns]",
      "text/html": "<div>\n<style scoped>\n    .dataframe tbody tr th:only-of-type {\n        vertical-align: middle;\n    }\n\n    .dataframe tbody tr th {\n        vertical-align: top;\n    }\n\n    .dataframe thead th {\n        text-align: right;\n    }\n</style>\n<table border=\"1\" class=\"dataframe\">\n  <thead>\n    <tr style=\"text-align: right;\">\n      <th></th>\n      <th>SeniorCitizen</th>\n      <th>tenure</th>\n      <th>MonthlyCharges</th>\n      <th>TotalCharges</th>\n      <th>gender_Male</th>\n      <th>Partner_Yes</th>\n      <th>Dependents_Yes</th>\n      <th>PhoneService_Yes</th>\n      <th>MultipleLines_No phone service</th>\n      <th>MultipleLines_Yes</th>\n      <th>...</th>\n      <th>StreamingTV_Yes</th>\n      <th>StreamingMovies_No internet service</th>\n      <th>StreamingMovies_Yes</th>\n      <th>Contract_One year</th>\n      <th>Contract_Two year</th>\n      <th>PaperlessBilling_Yes</th>\n      <th>PaymentMethod_Credit card (automatic)</th>\n      <th>PaymentMethod_Electronic check</th>\n      <th>PaymentMethod_Mailed check</th>\n      <th>Churn_Yes</th>\n    </tr>\n  </thead>\n  <tbody>\n    <tr>\n      <th>0</th>\n      <td>0</td>\n      <td>1.001</td>\n      <td>29</td>\n      <td>29</td>\n      <td>0</td>\n      <td>1</td>\n      <td>0</td>\n      <td>0</td>\n      <td>1</td>\n      <td>0</td>\n      <td>...</td>\n      <td>0</td>\n      <td>0</td>\n      <td>0</td>\n      <td>0</td>\n      <td>0</td>\n      <td>1</td>\n      <td>0</td>\n      <td>1</td>\n      <td>0</td>\n      <td>0</td>\n    </tr>\n    <tr>\n      <th>1</th>\n      <td>0</td>\n      <td>34.001</td>\n      <td>56</td>\n      <td>1889</td>\n      <td>1</td>\n      <td>0</td>\n      <td>0</td>\n      <td>1</td>\n      <td>0</td>\n      <td>0</td>\n      <td>...</td>\n      <td>0</td>\n      <td>0</td>\n      <td>0</td>\n      <td>1</td>\n      <td>0</td>\n      <td>0</td>\n      <td>0</td>\n      <td>0</td>\n      <td>1</td>\n      <td>0</td>\n    </tr>\n    <tr>\n      <th>2</th>\n      <td>0</td>\n      <td>2.001</td>\n      <td>53</td>\n      <td>108</td>\n      <td>1</td>\n      <td>0</td>\n      <td>0</td>\n      <td>1</td>\n      <td>0</td>\n      <td>0</td>\n      <td>...</td>\n      <td>0</td>\n      <td>0</td>\n      <td>0</td>\n      <td>0</td>\n      <td>0</td>\n      <td>1</td>\n      <td>0</td>\n      <td>0</td>\n      <td>1</td>\n      <td>1</td>\n    </tr>\n    <tr>\n      <th>3</th>\n      <td>0</td>\n      <td>45.001</td>\n      <td>42</td>\n      <td>1840</td>\n      <td>1</td>\n      <td>0</td>\n      <td>0</td>\n      <td>0</td>\n      <td>1</td>\n      <td>0</td>\n      <td>...</td>\n      <td>0</td>\n      <td>0</td>\n      <td>0</td>\n      <td>1</td>\n      <td>0</td>\n      <td>0</td>\n      <td>0</td>\n      <td>0</td>\n      <td>0</td>\n      <td>0</td>\n    </tr>\n    <tr>\n      <th>4</th>\n      <td>0</td>\n      <td>2.001</td>\n      <td>70</td>\n      <td>151</td>\n      <td>0</td>\n      <td>0</td>\n      <td>0</td>\n      <td>1</td>\n      <td>0</td>\n      <td>0</td>\n      <td>...</td>\n      <td>0</td>\n      <td>0</td>\n      <td>0</td>\n      <td>0</td>\n      <td>0</td>\n      <td>1</td>\n      <td>0</td>\n      <td>1</td>\n      <td>0</td>\n      <td>1</td>\n    </tr>\n  </tbody>\n</table>\n<p>5 rows × 31 columns</p>\n</div>"
     },
     "execution_count": 3,
     "metadata": {},
     "output_type": "execute_result"
    }
   ],
   "source": [
    "data.churn_df.head()"
   ],
   "metadata": {
    "collapsed": false
   }
  },
  {
   "cell_type": "code",
   "execution_count": 4,
   "metadata": {},
   "outputs": [
    {
     "data": {
      "text/plain": "    SeniorCitizen  tenure  MonthlyCharges  TotalCharges  gender_Male  \\\n2               0   2.001              53           108            1   \n4               0   2.001              70           151            0   \n5               0   8.001              99           820            0   \n8               0  28.001             104          3046            0   \n13              0  49.001             103          5036            1   \n\n    Partner_Yes  Dependents_Yes  PhoneService_Yes  \\\n2             0               0                 1   \n4             0               0                 1   \n5             0               0                 1   \n8             1               0                 1   \n13            0               0                 1   \n\n    MultipleLines_No phone service  MultipleLines_Yes  ...  \\\n2                                0                  0  ...   \n4                                0                  0  ...   \n5                                0                  1  ...   \n8                                0                  1  ...   \n13                               0                  1  ...   \n\n    StreamingTV_No internet service  StreamingTV_Yes  \\\n2                                 0                0   \n4                                 0                0   \n5                                 0                1   \n8                                 0                1   \n13                                0                1   \n\n    StreamingMovies_No internet service  StreamingMovies_Yes  \\\n2                                     0                    0   \n4                                     0                    0   \n5                                     0                    1   \n8                                     0                    1   \n13                                    0                    1   \n\n    Contract_One year  Contract_Two year  PaperlessBilling_Yes  \\\n2                   0                  0                     1   \n4                   0                  0                     1   \n5                   0                  0                     1   \n8                   0                  0                     1   \n13                  0                  0                     1   \n\n    PaymentMethod_Credit card (automatic)  PaymentMethod_Electronic check  \\\n2                                       0                               0   \n4                                       0                               1   \n5                                       0                               1   \n8                                       0                               1   \n13                                      0                               0   \n\n    PaymentMethod_Mailed check  \n2                            1  \n4                            0  \n5                            0  \n8                            0  \n13                           0  \n\n[5 rows x 30 columns]",
      "text/html": "<div>\n<style scoped>\n    .dataframe tbody tr th:only-of-type {\n        vertical-align: middle;\n    }\n\n    .dataframe tbody tr th {\n        vertical-align: top;\n    }\n\n    .dataframe thead th {\n        text-align: right;\n    }\n</style>\n<table border=\"1\" class=\"dataframe\">\n  <thead>\n    <tr style=\"text-align: right;\">\n      <th></th>\n      <th>SeniorCitizen</th>\n      <th>tenure</th>\n      <th>MonthlyCharges</th>\n      <th>TotalCharges</th>\n      <th>gender_Male</th>\n      <th>Partner_Yes</th>\n      <th>Dependents_Yes</th>\n      <th>PhoneService_Yes</th>\n      <th>MultipleLines_No phone service</th>\n      <th>MultipleLines_Yes</th>\n      <th>...</th>\n      <th>StreamingTV_No internet service</th>\n      <th>StreamingTV_Yes</th>\n      <th>StreamingMovies_No internet service</th>\n      <th>StreamingMovies_Yes</th>\n      <th>Contract_One year</th>\n      <th>Contract_Two year</th>\n      <th>PaperlessBilling_Yes</th>\n      <th>PaymentMethod_Credit card (automatic)</th>\n      <th>PaymentMethod_Electronic check</th>\n      <th>PaymentMethod_Mailed check</th>\n    </tr>\n  </thead>\n  <tbody>\n    <tr>\n      <th>2</th>\n      <td>0</td>\n      <td>2.001</td>\n      <td>53</td>\n      <td>108</td>\n      <td>1</td>\n      <td>0</td>\n      <td>0</td>\n      <td>1</td>\n      <td>0</td>\n      <td>0</td>\n      <td>...</td>\n      <td>0</td>\n      <td>0</td>\n      <td>0</td>\n      <td>0</td>\n      <td>0</td>\n      <td>0</td>\n      <td>1</td>\n      <td>0</td>\n      <td>0</td>\n      <td>1</td>\n    </tr>\n    <tr>\n      <th>4</th>\n      <td>0</td>\n      <td>2.001</td>\n      <td>70</td>\n      <td>151</td>\n      <td>0</td>\n      <td>0</td>\n      <td>0</td>\n      <td>1</td>\n      <td>0</td>\n      <td>0</td>\n      <td>...</td>\n      <td>0</td>\n      <td>0</td>\n      <td>0</td>\n      <td>0</td>\n      <td>0</td>\n      <td>0</td>\n      <td>1</td>\n      <td>0</td>\n      <td>1</td>\n      <td>0</td>\n    </tr>\n    <tr>\n      <th>5</th>\n      <td>0</td>\n      <td>8.001</td>\n      <td>99</td>\n      <td>820</td>\n      <td>0</td>\n      <td>0</td>\n      <td>0</td>\n      <td>1</td>\n      <td>0</td>\n      <td>1</td>\n      <td>...</td>\n      <td>0</td>\n      <td>1</td>\n      <td>0</td>\n      <td>1</td>\n      <td>0</td>\n      <td>0</td>\n      <td>1</td>\n      <td>0</td>\n      <td>1</td>\n      <td>0</td>\n    </tr>\n    <tr>\n      <th>8</th>\n      <td>0</td>\n      <td>28.001</td>\n      <td>104</td>\n      <td>3046</td>\n      <td>0</td>\n      <td>1</td>\n      <td>0</td>\n      <td>1</td>\n      <td>0</td>\n      <td>1</td>\n      <td>...</td>\n      <td>0</td>\n      <td>1</td>\n      <td>0</td>\n      <td>1</td>\n      <td>0</td>\n      <td>0</td>\n      <td>1</td>\n      <td>0</td>\n      <td>1</td>\n      <td>0</td>\n    </tr>\n    <tr>\n      <th>13</th>\n      <td>0</td>\n      <td>49.001</td>\n      <td>103</td>\n      <td>5036</td>\n      <td>1</td>\n      <td>0</td>\n      <td>0</td>\n      <td>1</td>\n      <td>0</td>\n      <td>1</td>\n      <td>...</td>\n      <td>0</td>\n      <td>1</td>\n      <td>0</td>\n      <td>1</td>\n      <td>0</td>\n      <td>0</td>\n      <td>1</td>\n      <td>0</td>\n      <td>0</td>\n      <td>0</td>\n    </tr>\n  </tbody>\n</table>\n<p>5 rows × 30 columns</p>\n</div>"
     },
     "execution_count": 4,
     "metadata": {},
     "output_type": "execute_result"
    }
   ],
   "source": [
    "data.churn_df_uncensored.head()"
   ]
  },
  {
   "cell_type": "code",
   "execution_count": 5,
   "metadata": {},
   "outputs": [
    {
     "data": {
      "text/plain": "SeniorCitizen                              int32\ntenure                                   float64\nMonthlyCharges                             int32\nTotalCharges                               int32\ngender_Male                                int32\nPartner_Yes                                int32\nDependents_Yes                             int32\nPhoneService_Yes                           int32\nMultipleLines_No phone service             int32\nMultipleLines_Yes                          int32\nInternetService_Fiber optic                int32\nInternetService_No                         int32\nOnlineSecurity_No internet service         int32\nOnlineSecurity_Yes                         int32\nOnlineBackup_No internet service           int32\nOnlineBackup_Yes                           int32\nDeviceProtection_No internet service       int32\nDeviceProtection_Yes                       int32\nTechSupport_No internet service            int32\nTechSupport_Yes                            int32\nStreamingTV_No internet service            int32\nStreamingTV_Yes                            int32\nStreamingMovies_No internet service        int32\nStreamingMovies_Yes                        int32\nContract_One year                          int32\nContract_Two year                          int32\nPaperlessBilling_Yes                       int32\nPaymentMethod_Credit card (automatic)      int32\nPaymentMethod_Electronic check             int32\nPaymentMethod_Mailed check                 int32\nChurn_Yes                                  int32\ndtype: object"
     },
     "execution_count": 5,
     "metadata": {},
     "output_type": "execute_result"
    }
   ],
   "source": [
    "data.churn_df.dtypes"
   ]
  },
  {
   "cell_type": "code",
   "execution_count": 6,
   "metadata": {},
   "outputs": [
    {
     "data": {
      "text/plain": "       SeniorCitizen       tenure  MonthlyCharges  TotalCharges  gender_Male  \\\ncount    7043.000000  7043.000000     7043.000000   7043.000000  7043.000000   \nmean        0.162147    32.372149       64.295897   2282.830754     0.504756   \nstd         0.368612    24.559481       30.092727   2264.997388     0.500013   \nmin         0.000000     0.001000       18.000000     18.000000     0.000000   \n25%         0.000000     9.001000       35.000000    401.500000     0.000000   \n50%         0.000000    29.001000       70.000000   1400.000000     1.000000   \n75%         0.000000    55.001000       89.000000   3786.500000     1.000000   \nmax         1.000000    72.001000      118.000000   8684.000000     1.000000   \n\n       Partner_Yes  Dependents_Yes  PhoneService_Yes  \\\ncount  7043.000000     7043.000000       7043.000000   \nmean      0.483033        0.299588          0.903166   \nstd       0.499748        0.458110          0.295752   \nmin       0.000000        0.000000          0.000000   \n25%       0.000000        0.000000          1.000000   \n50%       0.000000        0.000000          1.000000   \n75%       1.000000        1.000000          1.000000   \nmax       1.000000        1.000000          1.000000   \n\n       MultipleLines_No phone service  MultipleLines_Yes  ...  \\\ncount                     7043.000000        7043.000000  ...   \nmean                         0.096834           0.421837  ...   \nstd                          0.295752           0.493888  ...   \nmin                          0.000000           0.000000  ...   \n25%                          0.000000           0.000000  ...   \n50%                          0.000000           0.000000  ...   \n75%                          0.000000           1.000000  ...   \nmax                          1.000000           1.000000  ...   \n\n       StreamingTV_Yes  StreamingMovies_No internet service  \\\ncount      7043.000000                          7043.000000   \nmean          0.384353                             0.216669   \nstd           0.486477                             0.412004   \nmin           0.000000                             0.000000   \n25%           0.000000                             0.000000   \n50%           0.000000                             0.000000   \n75%           1.000000                             0.000000   \nmax           1.000000                             1.000000   \n\n       StreamingMovies_Yes  Contract_One year  Contract_Two year  \\\ncount          7043.000000        7043.000000        7043.000000   \nmean              0.387903           0.209144           0.240664   \nstd               0.487307           0.406726           0.427517   \nmin               0.000000           0.000000           0.000000   \n25%               0.000000           0.000000           0.000000   \n50%               0.000000           0.000000           0.000000   \n75%               1.000000           0.000000           0.000000   \nmax               1.000000           1.000000           1.000000   \n\n       PaperlessBilling_Yes  PaymentMethod_Credit card (automatic)  \\\ncount           7043.000000                            7043.000000   \nmean               0.592219                               0.216101   \nstd                0.491457                               0.411613   \nmin                0.000000                               0.000000   \n25%                0.000000                               0.000000   \n50%                1.000000                               0.000000   \n75%                1.000000                               0.000000   \nmax                1.000000                               1.000000   \n\n       PaymentMethod_Electronic check  PaymentMethod_Mailed check    Churn_Yes  \ncount                     7043.000000                 7043.000000  7043.000000  \nmean                         0.335794                    0.228880     0.265370  \nstd                          0.472301                    0.420141     0.441561  \nmin                          0.000000                    0.000000     0.000000  \n25%                          0.000000                    0.000000     0.000000  \n50%                          0.000000                    0.000000     0.000000  \n75%                          1.000000                    0.000000     1.000000  \nmax                          1.000000                    1.000000     1.000000  \n\n[8 rows x 31 columns]",
      "text/html": "<div>\n<style scoped>\n    .dataframe tbody tr th:only-of-type {\n        vertical-align: middle;\n    }\n\n    .dataframe tbody tr th {\n        vertical-align: top;\n    }\n\n    .dataframe thead th {\n        text-align: right;\n    }\n</style>\n<table border=\"1\" class=\"dataframe\">\n  <thead>\n    <tr style=\"text-align: right;\">\n      <th></th>\n      <th>SeniorCitizen</th>\n      <th>tenure</th>\n      <th>MonthlyCharges</th>\n      <th>TotalCharges</th>\n      <th>gender_Male</th>\n      <th>Partner_Yes</th>\n      <th>Dependents_Yes</th>\n      <th>PhoneService_Yes</th>\n      <th>MultipleLines_No phone service</th>\n      <th>MultipleLines_Yes</th>\n      <th>...</th>\n      <th>StreamingTV_Yes</th>\n      <th>StreamingMovies_No internet service</th>\n      <th>StreamingMovies_Yes</th>\n      <th>Contract_One year</th>\n      <th>Contract_Two year</th>\n      <th>PaperlessBilling_Yes</th>\n      <th>PaymentMethod_Credit card (automatic)</th>\n      <th>PaymentMethod_Electronic check</th>\n      <th>PaymentMethod_Mailed check</th>\n      <th>Churn_Yes</th>\n    </tr>\n  </thead>\n  <tbody>\n    <tr>\n      <th>count</th>\n      <td>7043.000000</td>\n      <td>7043.000000</td>\n      <td>7043.000000</td>\n      <td>7043.000000</td>\n      <td>7043.000000</td>\n      <td>7043.000000</td>\n      <td>7043.000000</td>\n      <td>7043.000000</td>\n      <td>7043.000000</td>\n      <td>7043.000000</td>\n      <td>...</td>\n      <td>7043.000000</td>\n      <td>7043.000000</td>\n      <td>7043.000000</td>\n      <td>7043.000000</td>\n      <td>7043.000000</td>\n      <td>7043.000000</td>\n      <td>7043.000000</td>\n      <td>7043.000000</td>\n      <td>7043.000000</td>\n      <td>7043.000000</td>\n    </tr>\n    <tr>\n      <th>mean</th>\n      <td>0.162147</td>\n      <td>32.372149</td>\n      <td>64.295897</td>\n      <td>2282.830754</td>\n      <td>0.504756</td>\n      <td>0.483033</td>\n      <td>0.299588</td>\n      <td>0.903166</td>\n      <td>0.096834</td>\n      <td>0.421837</td>\n      <td>...</td>\n      <td>0.384353</td>\n      <td>0.216669</td>\n      <td>0.387903</td>\n      <td>0.209144</td>\n      <td>0.240664</td>\n      <td>0.592219</td>\n      <td>0.216101</td>\n      <td>0.335794</td>\n      <td>0.228880</td>\n      <td>0.265370</td>\n    </tr>\n    <tr>\n      <th>std</th>\n      <td>0.368612</td>\n      <td>24.559481</td>\n      <td>30.092727</td>\n      <td>2264.997388</td>\n      <td>0.500013</td>\n      <td>0.499748</td>\n      <td>0.458110</td>\n      <td>0.295752</td>\n      <td>0.295752</td>\n      <td>0.493888</td>\n      <td>...</td>\n      <td>0.486477</td>\n      <td>0.412004</td>\n      <td>0.487307</td>\n      <td>0.406726</td>\n      <td>0.427517</td>\n      <td>0.491457</td>\n      <td>0.411613</td>\n      <td>0.472301</td>\n      <td>0.420141</td>\n      <td>0.441561</td>\n    </tr>\n    <tr>\n      <th>min</th>\n      <td>0.000000</td>\n      <td>0.001000</td>\n      <td>18.000000</td>\n      <td>18.000000</td>\n      <td>0.000000</td>\n      <td>0.000000</td>\n      <td>0.000000</td>\n      <td>0.000000</td>\n      <td>0.000000</td>\n      <td>0.000000</td>\n      <td>...</td>\n      <td>0.000000</td>\n      <td>0.000000</td>\n      <td>0.000000</td>\n      <td>0.000000</td>\n      <td>0.000000</td>\n      <td>0.000000</td>\n      <td>0.000000</td>\n      <td>0.000000</td>\n      <td>0.000000</td>\n      <td>0.000000</td>\n    </tr>\n    <tr>\n      <th>25%</th>\n      <td>0.000000</td>\n      <td>9.001000</td>\n      <td>35.000000</td>\n      <td>401.500000</td>\n      <td>0.000000</td>\n      <td>0.000000</td>\n      <td>0.000000</td>\n      <td>1.000000</td>\n      <td>0.000000</td>\n      <td>0.000000</td>\n      <td>...</td>\n      <td>0.000000</td>\n      <td>0.000000</td>\n      <td>0.000000</td>\n      <td>0.000000</td>\n      <td>0.000000</td>\n      <td>0.000000</td>\n      <td>0.000000</td>\n      <td>0.000000</td>\n      <td>0.000000</td>\n      <td>0.000000</td>\n    </tr>\n    <tr>\n      <th>50%</th>\n      <td>0.000000</td>\n      <td>29.001000</td>\n      <td>70.000000</td>\n      <td>1400.000000</td>\n      <td>1.000000</td>\n      <td>0.000000</td>\n      <td>0.000000</td>\n      <td>1.000000</td>\n      <td>0.000000</td>\n      <td>0.000000</td>\n      <td>...</td>\n      <td>0.000000</td>\n      <td>0.000000</td>\n      <td>0.000000</td>\n      <td>0.000000</td>\n      <td>0.000000</td>\n      <td>1.000000</td>\n      <td>0.000000</td>\n      <td>0.000000</td>\n      <td>0.000000</td>\n      <td>0.000000</td>\n    </tr>\n    <tr>\n      <th>75%</th>\n      <td>0.000000</td>\n      <td>55.001000</td>\n      <td>89.000000</td>\n      <td>3786.500000</td>\n      <td>1.000000</td>\n      <td>1.000000</td>\n      <td>1.000000</td>\n      <td>1.000000</td>\n      <td>0.000000</td>\n      <td>1.000000</td>\n      <td>...</td>\n      <td>1.000000</td>\n      <td>0.000000</td>\n      <td>1.000000</td>\n      <td>0.000000</td>\n      <td>0.000000</td>\n      <td>1.000000</td>\n      <td>0.000000</td>\n      <td>1.000000</td>\n      <td>0.000000</td>\n      <td>1.000000</td>\n    </tr>\n    <tr>\n      <th>max</th>\n      <td>1.000000</td>\n      <td>72.001000</td>\n      <td>118.000000</td>\n      <td>8684.000000</td>\n      <td>1.000000</td>\n      <td>1.000000</td>\n      <td>1.000000</td>\n      <td>1.000000</td>\n      <td>1.000000</td>\n      <td>1.000000</td>\n      <td>...</td>\n      <td>1.000000</td>\n      <td>1.000000</td>\n      <td>1.000000</td>\n      <td>1.000000</td>\n      <td>1.000000</td>\n      <td>1.000000</td>\n      <td>1.000000</td>\n      <td>1.000000</td>\n      <td>1.000000</td>\n      <td>1.000000</td>\n    </tr>\n  </tbody>\n</table>\n<p>8 rows × 31 columns</p>\n</div>"
     },
     "execution_count": 6,
     "metadata": {},
     "output_type": "execute_result"
    }
   ],
   "source": [
    "data.churn_df.describe()"
   ]
  },
  {
   "attachments": {},
   "cell_type": "markdown",
   "metadata": {},
   "source": [
    "# Exploratory Data Analysis"
   ]
  },
  {
   "cell_type": "code",
   "execution_count": 7,
   "metadata": {},
   "outputs": [
    {
     "data": {
      "text/plain": "<Figure size 640x480 with 1 Axes>",
      "image/png": "[encoded data removed]"
     },
     "metadata": {},
     "output_type": "display_data"
    }
   ],
   "source": [
    "sns.histplot(\n",
    "    data=data.churn_df,\n",
    "    x='tenure',\n",
    "    hue='Churn_Yes',\n",
    "    multiple='dodge')\n",
    "plt.show()"
   ]
  },
  {
   "cell_type": "code",
   "execution_count": 8,
   "metadata": {},
   "outputs": [
    {
     "data": {
      "text/plain": "<Figure size 640x480 with 1 Axes>",
      "image/png": "[encoded data removed]"
     },
     "metadata": {},
     "output_type": "display_data"
    }
   ],
   "source": [
    "sns.barplot(\n",
    "    data = data.churn_df,\n",
    "    y = 'tenure',\n",
    "    x = 'Churn_Yes'   \n",
    ")\n",
    "plt.show()"
   ]
  },
  {
   "attachments": {},
   "cell_type": "markdown",
   "metadata": {},
   "source": [
    "# Modeling \n",
    "## Regression Model for Lifetime Prediction (i.e. Tenure)\n",
    "\n",
    "First let´s do \"classical\" machine learning to estimate the tenure values in the datasets of churners i.e. the uncensored data on which we can train a standard regression model"
   ]
  },
  {
   "cell_type": "code",
   "execution_count": 9,
   "outputs": [],
   "source": [
    "import numpy as np\n",
    "import matplotlib.pyplot as plt\n",
    "from sklearn.ensemble import GradientBoostingRegressor\n",
    "from sklearn.metrics import mean_squared_error, r2_score\n",
    "from lifelines.utils import concordance_index\n",
    "\n",
    "class LifetimeRegressionModel:\n",
    "    def __init__(self, train_dataset: pd.DataFrame, test_dataset: pd.DataFrame, seed: int):\n",
    "        self.seed = seed\n",
    "        self.train_dataset = train_dataset\n",
    "        self.test_dataset = test_dataset\n",
    "        self.target = 'tenure'\n",
    "        self.features = None\n",
    "        self.X_train = None\n",
    "        self.y_train = None\n",
    "        self.X_test = None\n",
    "        self.y_test = None\n",
    "        self.model = None\n",
    "\n",
    "    def get_feature_names(self):\n",
    "        features = self.train_dataset.columns.to_list()\n",
    "        features.remove('TotalCharges')\n",
    "        features.remove('tenure')\n",
    "        self.features = features\n",
    "\n",
    "    def separate_features_and_target(self):\n",
    "        self.X_train = self.train_dataset[self.features]\n",
    "        self.y_train = self.train_dataset['tenure'].values\n",
    "        self.X_test = self.test_dataset[self.features]\n",
    "        self.y_test = self.test_dataset['tenure'].values\n",
    "\n",
    "    def build_model(self):\n",
    "        self.get_feature_names()\n",
    "        self.separate_features_and_target()\n",
    "        self.model = GradientBoostingRegressor(random_state=self.seed).fit(self.X_train, self.y_train)\n",
    "\n",
    "    def evaluate_model(self):\n",
    "        print('r2-score on training set: {:.2f}'.format(r2_score(self.y_train, self.model.predict(lrm.X_train))))\n",
    "        print('r2-score on test set: {:.2f}'.format(r2_score(self.y_test, self.model.predict(lrm.X_test))))\n",
    "        print('rmse on training set: {:.2f}'.format(np.sqrt(mean_squared_error(self.y_train, self.model.predict(lrm.X_train)))))\n",
    "        print('rmse on test set: {:.2f}'.format(np.sqrt(mean_squared_error(self.y_test, self.model.predict(lrm.X_test)))))\n",
    "        print('c-index on train set: {:.2f}'.format(concordance_index(event_times=self.y_train, predicted_scores=self.model.predict(self.X_train))))\n",
    "        print('c-index on test set: {:.2f}'.format(concordance_index(event_times=self.y_test, predicted_scores=self.model.predict(self.X_test))))\n",
    "\n",
    "    def visualize_model_prediction(self):\n",
    "        plt.scatter(x=self.y_test, y=lrm.model.predict(self.X_test))\n",
    "        plt.plot([min(self.y_test), max(self.y_test)], [min(self.y_test), max(self.y_test)], color='red', linestyle='--')\n",
    "        plt.title('Tenure: Predicted vs Actual')\n",
    "        plt.xlabel('actual tenure [month]')\n",
    "        plt.ylabel('predicted tenure [month]')\n",
    "        plt.grid()\n",
    "        plt.show()\n",
    "\n"
   ],
   "metadata": {
    "collapsed": false
   }
  },
  {
   "cell_type": "code",
   "execution_count": 10,
   "outputs": [
    {
     "name": "stdout",
     "output_type": "stream",
     "text": [
      "r2-score on training set: 0.66\n",
      "r2-score on test set: 0.53\n",
      "rmse on training set: 11.44\n",
      "rmse on test set: 13.51\n",
      "c-index on train set: 0.79\n",
      "c-index on test set: 0.76\n"
     ]
    },
    {
     "data": {
      "text/plain": "<Figure size 640x480 with 1 Axes>",
      "image/png": "[encoded data removed]"
     },
     "metadata": {},
     "output_type": "display_data"
    }
   ],
   "source": [
    "# instantiate model\n",
    "lrm = LifetimeRegressionModel(\n",
    "    train_dataset=data.churn_df_uncensored_train,\n",
    "    test_dataset=data.churn_df_uncensored_test,\n",
    "    seed=123\n",
    ")\n",
    "# build model\n",
    "lrm.build_model()\n",
    "# evaluate model\n",
    "lrm.evaluate_model()\n",
    "# visualize model\n",
    "lrm.visualize_model_prediction()"
   ],
   "metadata": {
    "collapsed": false
   }
  },
  {
   "attachments": {},
   "cell_type": "markdown",
   "metadata": {},
   "source": [
    "## Feature Importance"
   ]
  },
  {
   "cell_type": "code",
   "execution_count": 11,
   "metadata": {},
   "outputs": [
    {
     "ename": "NameError",
     "evalue": "name 'reg' is not defined",
     "output_type": "error",
     "traceback": [
      "\u001B[1;31m---------------------------------------------------------------------------\u001B[0m",
      "\u001B[1;31mNameError\u001B[0m                                 Traceback (most recent call last)",
      "Cell \u001B[1;32mIn[11], line 1\u001B[0m\n\u001B[1;32m----> 1\u001B[0m importances \u001B[38;5;241m=\u001B[39m \u001B[43mreg\u001B[49m\u001B[38;5;241m.\u001B[39mfeature_importances_\n\u001B[0;32m      2\u001B[0m forest_importances \u001B[38;5;241m=\u001B[39m pd\u001B[38;5;241m.\u001B[39mSeries(importances, index\u001B[38;5;241m=\u001B[39mfeatures)\n\u001B[0;32m      4\u001B[0m fig, ax \u001B[38;5;241m=\u001B[39m plt\u001B[38;5;241m.\u001B[39msubplots()\n",
      "\u001B[1;31mNameError\u001B[0m: name 'reg' is not defined"
     ]
    }
   ],
   "source": [
    "importances = reg.feature_importances_\n",
    "forest_importances = pd.Series(importances, index=features)\n",
    "\n",
    "fig, ax = plt.subplots()\n",
    "forest_importances.plot.bar(ax=ax)\n",
    "ax.set_title(\"Feature Importance using Log-Loss\")\n",
    "ax.set_ylabel(\"Mean log-loss\")\n",
    "fig.tight_layout()"
   ]
  },
  {
   "attachments": {},
   "cell_type": "markdown",
   "metadata": {},
   "source": [
    "## Conclusion\n",
    "We cannot robustly predict tenure i.e. the number of month a customer will stay before churning beforehand; Let´s try to predict churn itself"
   ]
  },
  {
   "attachments": {},
   "cell_type": "markdown",
   "metadata": {},
   "source": [
    "## Classification Model for Churn-Prediction"
   ]
  },
  {
   "cell_type": "code",
   "execution_count": null,
   "metadata": {},
   "outputs": [],
   "source": [
    "features = tenure_df_train.columns.to_list()\n",
    "features.remove('Churn_Yes')\n",
    "\n",
    "features"
   ]
  },
  {
   "cell_type": "code",
   "execution_count": null,
   "metadata": {},
   "outputs": [],
   "source": [
    "X_train =  tenure_df_train[features]\n",
    "y_train =  tenure_df_train['Churn_Yes'].values"
   ]
  },
  {
   "cell_type": "code",
   "execution_count": null,
   "metadata": {},
   "outputs": [],
   "source": [
    "X_test =  tenure_df_test[features]\n",
    "y_test =  tenure_df_test['Churn_Yes'].values"
   ]
  },
  {
   "cell_type": "code",
   "execution_count": null,
   "metadata": {},
   "outputs": [],
   "source": [
    "clf = GradientBoostingClassifier(random_state=123)\n",
    "clf.fit(X_train, y_train)\n",
    "y_pred = clf.predict(X_test)"
   ]
  },
  {
   "cell_type": "code",
   "execution_count": null,
   "metadata": {},
   "outputs": [],
   "source": [
    "# accuracy score on training set\n",
    "clf.score(X_train, y_train)"
   ]
  },
  {
   "cell_type": "code",
   "execution_count": null,
   "metadata": {},
   "outputs": [],
   "source": [
    "# accuracy score on test set\n",
    "clf.score(X_test, y_test)"
   ]
  },
  {
   "cell_type": "code",
   "execution_count": null,
   "metadata": {},
   "outputs": [],
   "source": [
    "# confusion matrix\n",
    "cm = confusion_matrix(y_test, y_pred)\n",
    "cm_display = ConfusionMatrixDisplay(cm).plot()"
   ]
  },
  {
   "cell_type": "code",
   "execution_count": null,
   "metadata": {},
   "outputs": [],
   "source": [
    "# precision recall curve\n",
    "y_score = clf.decision_function(X_test)\n",
    "prec, recall, _ = precision_recall_curve(y_test, y_score, pos_label=clf.classes_[1])\n",
    "pr_display = PrecisionRecallDisplay(precision=prec, recall=recall).plot()\n",
    "plt.grid()"
   ]
  },
  {
   "attachments": {},
   "cell_type": "markdown",
   "metadata": {},
   "source": [
    "## Feature Importance"
   ]
  },
  {
   "cell_type": "code",
   "execution_count": null,
   "metadata": {},
   "outputs": [],
   "source": [
    "importances = clf.feature_importances_\n",
    "forest_importances = pd.Series(importances, index=features)\n",
    "\n",
    "fig, ax = plt.subplots()\n",
    "forest_importances.plot.bar(ax=ax)\n",
    "ax.set_title(\"Feature Importances using Log-Loss\")\n",
    "ax.set_ylabel(\"Mean log-loss\")\n",
    "fig.tight_layout()\n"
   ]
  },
  {
   "cell_type": "code",
   "execution_count": null,
   "metadata": {},
   "outputs": [],
   "source": [
    "\n",
    "explainer = shap.TreeExplainer(\n",
    "    model=clf,\n",
    "    data = X_test,\n",
    "    feature_perturbation = \"interventional\",\n",
    "    model_output='probability')\n"
   ]
  },
  {
   "cell_type": "code",
   "execution_count": null,
   "metadata": {},
   "outputs": [],
   "source": [
    "shap_values = explainer.shap_values(X_test, check_additivity=True)\n"
   ]
  },
  {
   "cell_type": "code",
   "execution_count": null,
   "metadata": {},
   "outputs": [],
   "source": [
    "shap.summary_plot(\n",
    "    shap_values=shap_values, \n",
    "    features=X_test, \n",
    "    plot_type='bar'\n",
    "    )"
   ]
  },
  {
   "cell_type": "code",
   "execution_count": null,
   "metadata": {},
   "outputs": [],
   "source": [
    "shap.summary_plot(\n",
    "    shap_values=shap_values, \n",
    "    features=X_test, \n",
    "    plot_type='violin'\n",
    "    )"
   ]
  },
  {
   "cell_type": "code",
   "execution_count": null,
   "metadata": {},
   "outputs": [],
   "source": [
    "for f in data.numeric_features[:2]:\n",
    "    fig, ax = plt.subplots(1,1)\n",
    "    ax.grid()\n",
    "    shap.dependence_plot(\n",
    "        ind=f,\n",
    "        shap_values=shap_values,\n",
    "        features=X_test,\n",
    "        interaction_index='auto',\n",
    "        ax=ax\n",
    "    )"
   ]
  },
  {
   "attachments": {},
   "cell_type": "markdown",
   "metadata": {},
   "source": [
    "# Survival Analysis\n",
    "## Find best univariate model"
   ]
  },
  {
   "cell_type": "code",
   "execution_count": null,
   "metadata": {},
   "outputs": [],
   "source": [
    "fig, axes = plt.subplots(2, 2, figsize=(8, 6))\n",
    "axes = axes.reshape(4,)\n",
    "\n",
    "T = tenure_df_train['tenure']\n",
    "E = tenure_df_train['Churn_Yes']\n",
    "\n",
    "for i, model in enumerate([WeibullFitter(), LogNormalFitter(), LogLogisticFitter(), ExponentialFitter()]):\n",
    "    model.fit(T, E)\n",
    "    qq_plot(model, ax=axes[i])"
   ]
  },
  {
   "attachments": {},
   "cell_type": "markdown",
   "metadata": {},
   "source": [
    "## Training Weibull Model"
   ]
  },
  {
   "cell_type": "code",
   "execution_count": null,
   "metadata": {},
   "outputs": [],
   "source": [
    "import numpy as np\n",
    "from lifelines import WeibullAFTFitter, CoxPHFitter\n",
    "from lifelines.utils import concordance_index\n",
    "from sklearn.metrics import r2_score\n",
    "\n",
    "class ChurnModels:\n",
    "    def __init__(self):\n",
    "        self.wb_aft_model = WeibullAFTFitter()\n",
    "        self.cph_model = CoxPHFitter(penalizer=0.01)\n",
    "\n",
    "    def fit(self, data:pd.DataFrame, duration_col:str, event_col:str, model_type:str):\n",
    "        if model_type == 'WeibullAFT':\n",
    "            self.wb_aft_model.fit(data, duration_col, event_col)\n",
    "        elif model_type == 'CoxPH':\n",
    "            self.cph_model.fit(data, duration_col, event_col)\n",
    "        else:\n",
    "            pass\n",
    "    \n",
    "    def summary(self, model_type:str):\n",
    "        if model_type == 'WeibullAFT':\n",
    "            return self.wb_aft_model.summary\n",
    "        elif model_type == 'CoxPH':\n",
    "            return self.cph_model.summary\n",
    "        else:\n",
    "            pass\n",
    "\n",
    "    def predict_expected_lifetime(self, data:pd.DataFrame, model_type:str):\n",
    "        if model_type == 'WeibullAFT':\n",
    "            return self.wb_aft_model.predict_expectation(data)\n",
    "        elif model_type == 'CoxPH':\n",
    "            return self.cph_model.predict_expectation(data.drop(['tenure', 'Churn_Yes'], axis=1))\n",
    "        else:\n",
    "            pass\n",
    "    \n",
    "    def eval_concordance_index(self, event_times:pd.Series, event_predictions:pd.Series):\n",
    "        \"the r2 score should be best evaluated on uncensored subset of the data\"\n",
    "        return np.round(concordance_index(event_times, event_predictions), 2)\n",
    "    \n",
    "    def eval_r2_score(self, event_times:pd.Series, event_predictions:pd.Series):\n",
    "        \"the r2 score should be best evaluated on uncensored subset of the data\"\n",
    "        return np.round(r2_score(event_times, event_predictions), 2)\n",
    "\n",
    "    \n"
   ]
  },
  {
   "cell_type": "code",
   "execution_count": null,
   "metadata": {},
   "outputs": [],
   "source": [
    "# initialize model\n",
    "models = ChurnModels()\n",
    "\n",
    "# fit Weibull-ATF model on all i.e. right-censored data\n",
    "models.fit(\n",
    "    data=tenure_df_train, \n",
    "    duration_col='tenure', \n",
    "    event_col='Churn_Yes',\n",
    "    model_type='WeibullAFT')\n",
    "\n",
    "# fit CoxPH model on all i.e. right-censored data\n",
    "models.fit(\n",
    "    data=tenure_df_train, \n",
    "    duration_col='tenure', \n",
    "    event_col='Churn_Yes',\n",
    "    model_type='CoxPH')"
   ]
  },
  {
   "cell_type": "code",
   "execution_count": null,
   "metadata": {},
   "outputs": [],
   "source": [
    "# evaluate the models´ performance on uncensored data only\n",
    "uncensored_data_train = tenure_df_train[tenure_df_train['Churn_Yes'] == 1]\n",
    "uncensored_data_test = tenure_df_test[tenure_df_test['Churn_Yes'] == 1]"
   ]
  },
  {
   "cell_type": "code",
   "execution_count": null,
   "metadata": {},
   "outputs": [],
   "source": [
    "# Weibull Model: predict lifetimes on train and test sets\n",
    "pred_train = models.predict_expected_lifetime(data=uncensored_data_train, model_type='WeibullAFT')\n",
    "pred_test = models.predict_expected_lifetime(data=uncensored_data_test, model_type='WeibullAFT')"
   ]
  },
  {
   "cell_type": "code",
   "execution_count": null,
   "metadata": {},
   "outputs": [],
   "source": [
    "# Weibull Model: get concordance score on test set for the weibull model\n",
    "cindex_train = models.eval_concordance_index(uncensored_data_train['tenure'], pred_train)\n",
    "cindex_test = models.eval_concordance_index(uncensored_data_test['tenure'], pred_test)\n",
    "\n",
    "print('Concordance index: train=', cindex_train)\n",
    "print('Concordance index: test=', cindex_test)"
   ]
  },
  {
   "cell_type": "code",
   "execution_count": null,
   "metadata": {},
   "outputs": [],
   "source": [
    "# Weibull Model: get r2 score on test set for the weibull model\n",
    "r2score_train = models.eval_r2_score(uncensored_data_train['tenure'], pred_train)\n",
    "r2score_test = models.eval_r2_score(uncensored_data_test['tenure'], pred_test)\n",
    "\n",
    "print('R2-score: train=', r2score_train)\n",
    "print('R2-score: test=', r2score_test)"
   ]
  },
  {
   "cell_type": "code",
   "execution_count": null,
   "metadata": {},
   "outputs": [],
   "source": [
    "# Weibull Model: get summary statistics\n",
    "models.summary(model_type='WeibullAFT')"
   ]
  },
  {
   "cell_type": "code",
   "execution_count": null,
   "metadata": {},
   "outputs": [],
   "source": [
    "# CoxPh Model: predict lifetimes on train and test sets\n",
    "pred_train = models.predict_expected_lifetime(data=uncensored_data_train, model_type='CoxPh')\n",
    "pred_test = models.predict_expected_lifetime(data=uncensored_data_test, model_type='CoxPh')"
   ]
  },
  {
   "cell_type": "code",
   "execution_count": null,
   "metadata": {},
   "outputs": [],
   "source": [
    "pred_train"
   ]
  },
  {
   "cell_type": "code",
   "execution_count": null,
   "metadata": {},
   "outputs": [],
   "source": [
    "models.eval_concordance_index(uncensored_data_train['tenure'], pred_train)"
   ]
  },
  {
   "cell_type": "code",
   "execution_count": null,
   "metadata": {},
   "outputs": [],
   "source": [
    "# CoxPh Model: get concordance score on test set for the weibull model\n",
    "cindex_train = models.eval_concordance_index(uncensored_data_train['tenure'], pred_train)\n",
    "cindex_test = models.eval_concordance_index(uncensored_data_test['tenure'], pred_test)\n",
    "\n",
    "print('Concordance index: train=', cindex_train)\n",
    "print('Concordance index: test=', cindex_test)"
   ]
  },
  {
   "cell_type": "code",
   "execution_count": null,
   "metadata": {},
   "outputs": [],
   "source": []
  },
  {
   "cell_type": "code",
   "execution_count": null,
   "metadata": {},
   "outputs": [],
   "source": [
    "# CoxPh Model: get summary statistics\n",
    "models.summary(model_type='CoxPH')"
   ]
  },
  {
   "cell_type": "code",
   "execution_count": null,
   "metadata": {},
   "outputs": [],
   "source": []
  },
  {
   "cell_type": "code",
   "execution_count": null,
   "metadata": {},
   "outputs": [],
   "source": []
  },
  {
   "cell_type": "code",
   "execution_count": null,
   "metadata": {},
   "outputs": [],
   "source": [
    "aft.plot_partial_effects_on_outcome(\n",
    "    covariates='gender_Male',\n",
    "    values=[0, 1]\n",
    ")\n",
    "plt.title('Survival Curve')\n",
    "plt.grid()\n",
    "plt.show()"
   ]
  },
  {
   "cell_type": "code",
   "execution_count": null,
   "metadata": {},
   "outputs": [],
   "source": [
    "aft.plot_partial_effects_on_outcome(\n",
    "    covariates='SeniorCitizen',\n",
    "    values=[0, 1]\n",
    ")\n",
    "plt.title('Survival Curve')\n",
    "plt.grid()\n",
    "plt.show()"
   ]
  },
  {
   "cell_type": "code",
   "execution_count": null,
   "metadata": {},
   "outputs": [],
   "source": [
    "aft.plot_partial_effects_on_outcome(\n",
    "    covariates='Partner_Yes',\n",
    "    values=[0, 1]\n",
    ")\n",
    "plt.title('Survival Curve')\n",
    "plt.grid()\n",
    "plt.show()"
   ]
  },
  {
   "cell_type": "code",
   "execution_count": null,
   "metadata": {},
   "outputs": [],
   "source": [
    "aft.plot_partial_effects_on_outcome(\n",
    "    covariates='Dependents_Yes',\n",
    "    values=[0, 1]\n",
    ")\n",
    "plt.title('Survival Curve')\n",
    "plt.grid()\n",
    "plt.show()"
   ]
  },
  {
   "cell_type": "code",
   "execution_count": null,
   "metadata": {},
   "outputs": [],
   "source": [
    "aft.plot_partial_effects_on_outcome(\n",
    "    covariates='PhoneService_Yes',\n",
    "    values=[0, 1]\n",
    ")\n",
    "plt.title('Survival Curve')\n",
    "plt.grid()\n",
    "plt.show()"
   ]
  },
  {
   "cell_type": "code",
   "execution_count": null,
   "metadata": {},
   "outputs": [],
   "source": [
    "aft.plot_partial_effects_on_outcome(\n",
    "    covariates='MonthlyCharges',\n",
    "    values=np.arange(0, 150, 30)\n",
    ")\n",
    "plt.title('Survival Curve')\n",
    "plt.grid()\n",
    "plt.show()"
   ]
  },
  {
   "attachments": {},
   "cell_type": "markdown",
   "metadata": {},
   "source": [
    "## Training Cox Proportional Hazard Model"
   ]
  },
  {
   "cell_type": "code",
   "execution_count": null,
   "metadata": {},
   "outputs": [],
   "source": [
    "coxph = CoxPHFitter(penalizer=.01)\n",
    "#coxph = CoxPHFitter(penalizer=0)"
   ]
  },
  {
   "cell_type": "code",
   "execution_count": null,
   "metadata": {},
   "outputs": [],
   "source": [
    "coxph.fit(\n",
    "    df=tenure_df_train, \n",
    "    duration_col='tenure', \n",
    "    event_col='Churn_Yes',\n",
    "    robust=False)"
   ]
  },
  {
   "cell_type": "code",
   "execution_count": null,
   "metadata": {},
   "outputs": [],
   "source": [
    "coxph.summary"
   ]
  },
  {
   "cell_type": "code",
   "execution_count": null,
   "metadata": {},
   "outputs": [],
   "source": [
    "coxph.baseline_hazard_.plot()\n",
    "plt.show()"
   ]
  },
  {
   "cell_type": "code",
   "execution_count": null,
   "metadata": {},
   "outputs": [],
   "source": [
    "coxph.baseline_survival_.plot()\n",
    "plt.show()\n"
   ]
  },
  {
   "cell_type": "code",
   "execution_count": null,
   "metadata": {},
   "outputs": [],
   "source": [
    "coxph.plot_partial_effects_on_outcome(\n",
    "    covariates='MonthlyCharges',\n",
    "    values=np.arange(0, 150, 30)\n",
    ")\n",
    "plt.title('Survival Curve')\n",
    "plt.grid()\n",
    "plt.show()"
   ]
  },
  {
   "attachments": {},
   "cell_type": "markdown",
   "metadata": {},
   "source": [
    "# Predict on Test Data"
   ]
  },
  {
   "cell_type": "code",
   "execution_count": null,
   "metadata": {},
   "outputs": [],
   "source": [
    "tenure_df_test.head(3)"
   ]
  },
  {
   "cell_type": "code",
   "execution_count": null,
   "metadata": {},
   "outputs": [],
   "source": [
    "has_churned = tenure_df_test[tenure_df_test['Churn_Yes'] == 1]\n",
    "has_churned.head(3)"
   ]
  },
  {
   "cell_type": "code",
   "execution_count": null,
   "metadata": {},
   "outputs": [],
   "source": [
    "not_churned = tenure_df_test[tenure_df_test['Churn_Yes'] == 0]\n",
    "not_churned.head(3)"
   ]
  },
  {
   "cell_type": "code",
   "execution_count": null,
   "metadata": {},
   "outputs": [],
   "source": [
    "feat = list(has_churned.columns)\n",
    "feat.remove('Churn_Yes')\n",
    "feat.remove('tenure')\n",
    "feat"
   ]
  },
  {
   "cell_type": "code",
   "execution_count": null,
   "metadata": {},
   "outputs": [],
   "source": []
  },
  {
   "cell_type": "code",
   "execution_count": null,
   "metadata": {},
   "outputs": [],
   "source": [
    "# predict tenure using Cox Proportional Hazard Model\n",
    "pred_CPH = coxph.predict_median(\n",
    "    X = has_churned[feat],\n",
    "    conditional_after = None\n",
    "    )\n",
    "\n",
    "pred_CPH"
   ]
  },
  {
   "cell_type": "code",
   "execution_count": null,
   "metadata": {},
   "outputs": [],
   "source": [
    "has_churned['tenure_prediction_WB'] = pred_WB\n",
    "has_churned['tenure_prediction_CPH'] = pred_CPH\n",
    "\n",
    "\n",
    "# replace the inf values of the coxprop model predictions with the max values\n",
    "max_tennure_pred = has_churned['tenure_prediction_CPH'][has_churned['tenure_prediction_CPH'] != np.inf].max()\n",
    "has_churned['tenure_prediction_CPH'].replace([np.inf, -np.inf], max_tennure_pred, inplace=True)\n",
    "\n",
    "has_churned.head(10)"
   ]
  },
  {
   "cell_type": "code",
   "execution_count": null,
   "metadata": {},
   "outputs": [],
   "source": []
  },
  {
   "cell_type": "code",
   "execution_count": null,
   "metadata": {},
   "outputs": [],
   "source": [
    "# get r2 score on test set for the Cox Proportional Model\n",
    "r2_score(has_churned['tenure'], has_churned['tenure_prediction_CPH'])"
   ]
  },
  {
   "cell_type": "code",
   "execution_count": null,
   "metadata": {},
   "outputs": [],
   "source": [
    "sns.scatterplot(\n",
    "    data=has_churned,\n",
    "    x='tenure',\n",
    "    y='tenure_prediction_WB'\n",
    ")\n",
    "#plt.xlim(0,100)\n",
    "#plt.ylim(0,100)\n",
    "plt.grid()"
   ]
  },
  {
   "cell_type": "code",
   "execution_count": null,
   "metadata": {},
   "outputs": [],
   "source": [
    "sns.scatterplot(\n",
    "    data=has_churned,\n",
    "    x='tenure',\n",
    "    y='tenure_prediction_CPH'\n",
    ")\n",
    "#plt.xlim(0,100)\n",
    "#plt.ylim(0,100)\n",
    "plt.grid()"
   ]
  },
  {
   "attachments": {},
   "cell_type": "markdown",
   "metadata": {},
   "source": [
    "# Survival Analysis using Scikit-Survival Package"
   ]
  },
  {
   "cell_type": "code",
   "execution_count": null,
   "metadata": {},
   "outputs": [],
   "source": []
  },
  {
   "cell_type": "code",
   "execution_count": null,
   "metadata": {},
   "outputs": [],
   "source": [
    "features = tenure_df_train.columns.to_list()\n",
    "features.remove('tenure')\n",
    "#features.remove('TotalCharges')\n",
    "features.remove('Churn_Yes')\n",
    "features"
   ]
  },
  {
   "cell_type": "code",
   "execution_count": null,
   "metadata": {},
   "outputs": [],
   "source": [
    "X_train = tenure_df_train[features]\n",
    "y_train = Surv.from_dataframe(\n",
    "    event = 'Churn_Yes', \n",
    "    time = 'tenure', \n",
    "    data = tenure_df_train)"
   ]
  },
  {
   "cell_type": "code",
   "execution_count": null,
   "metadata": {},
   "outputs": [],
   "source": [
    "X_test = tenure_df_test[features]\n",
    "y_test = Surv.from_dataframe(\n",
    "    event = 'Churn_Yes', \n",
    "    time = 'tenure', \n",
    "    data = tenure_df_test)"
   ]
  },
  {
   "cell_type": "code",
   "execution_count": null,
   "metadata": {},
   "outputs": [],
   "source": [
    "estimator = GradientBoostingSurvivalAnalysis(loss=\"coxph\")\n",
    "estimator.fit(X_train, y_train)"
   ]
  },
  {
   "cell_type": "code",
   "execution_count": null,
   "metadata": {},
   "outputs": [],
   "source": [
    "# estimate the accuracy of the model i.e. the concordinance score\n",
    "estimator.score(X_train, y_train)"
   ]
  },
  {
   "cell_type": "code",
   "execution_count": null,
   "metadata": {},
   "outputs": [],
   "source": [
    "estimator.score(X_test, y_test)"
   ]
  },
  {
   "cell_type": "code",
   "execution_count": null,
   "metadata": {},
   "outputs": [],
   "source": [
    "surv_funcs = estimator.predict_survival_function(X_train.iloc[:10])\n",
    "for fn in surv_funcs:\n",
    "    plt.step(fn.x, fn(fn.x), where=\"post\")\n",
    "\n",
    "plt.ylim(0, 1)\n",
    "plt.show()"
   ]
  },
  {
   "attachments": {},
   "cell_type": "markdown",
   "metadata": {},
   "source": [
    "## Predict Times to Event"
   ]
  },
  {
   "cell_type": "code",
   "execution_count": null,
   "metadata": {},
   "outputs": [],
   "source": [
    "# predict tenure times\n",
    "estimator = GradientBoostingSurvivalAnalysis(loss=\"squared\")\n",
    "estimator.fit(X_train, y_train) \n"
   ]
  },
  {
   "cell_type": "code",
   "execution_count": null,
   "metadata": {},
   "outputs": [],
   "source": [
    "estimator.score(X_train, y_train)"
   ]
  },
  {
   "cell_type": "code",
   "execution_count": null,
   "metadata": {},
   "outputs": [],
   "source": [
    "estimator.score(X_test, y_test)"
   ]
  },
  {
   "cell_type": "code",
   "execution_count": null,
   "metadata": {},
   "outputs": [],
   "source": [
    "time_to_event_pred = estimator.predict(X_test)"
   ]
  },
  {
   "cell_type": "code",
   "execution_count": null,
   "metadata": {},
   "outputs": [],
   "source": [
    "sns.scatterplot(\n",
    "    x=[tte for event, tte in y_test],\n",
    "    y=time_to_event_pred\n",
    ")\n",
    "#plt.xlim(0,100)\n",
    "#plt.ylim(0,100)\n",
    "plt.grid()"
   ]
  },
  {
   "cell_type": "code",
   "execution_count": null,
   "metadata": {},
   "outputs": [],
   "source": [
    "# let´s just predict time-to-event on the uncensored dataset\n",
    "index_uncensored = [i for i in range(len(y_test)) if y_test[i][0] == True]"
   ]
  },
  {
   "cell_type": "code",
   "execution_count": null,
   "metadata": {},
   "outputs": [],
   "source": [
    "X_test.iloc[index_uncensored]"
   ]
  },
  {
   "cell_type": "code",
   "execution_count": null,
   "metadata": {},
   "outputs": [],
   "source": [
    "y_test[index_uncensored]"
   ]
  },
  {
   "cell_type": "code",
   "execution_count": null,
   "metadata": {},
   "outputs": [],
   "source": [
    "time_to_event_pred = estimator.predict(X_test.iloc[index_uncensored])"
   ]
  },
  {
   "cell_type": "code",
   "execution_count": null,
   "metadata": {},
   "outputs": [],
   "source": [
    "sns.scatterplot(\n",
    "    x=[tte for event, tte in y_test[index_uncensored]],\n",
    "    y=time_to_event_pred\n",
    ")\n",
    "#plt.xlim(0,100)\n",
    "#plt.ylim(0,100)\n",
    "plt.grid()"
   ]
  },
  {
   "cell_type": "code",
   "execution_count": null,
   "metadata": {},
   "outputs": [],
   "source": []
  },
  {
   "attachments": {},
   "cell_type": "markdown",
   "metadata": {},
   "source": [
    "## Predict Time To Event for every Point in Time"
   ]
  },
  {
   "cell_type": "code",
   "execution_count": null,
   "metadata": {},
   "outputs": [],
   "source": [
    "staged_time_to_event_pred = np.array([tte for tte in estimator.staged_predict(X_test)])"
   ]
  },
  {
   "cell_type": "code",
   "execution_count": null,
   "metadata": {},
   "outputs": [],
   "source": [
    "time_to_event_pred[4]"
   ]
  },
  {
   "cell_type": "code",
   "execution_count": null,
   "metadata": {},
   "outputs": [],
   "source": [
    "plt.plot(staged_time_to_event_pred[::-1,4])"
   ]
  },
  {
   "cell_type": "code",
   "execution_count": null,
   "metadata": {},
   "outputs": [],
   "source": []
  },
  {
   "cell_type": "code",
   "execution_count": null,
   "metadata": {},
   "outputs": [],
   "source": []
  },
  {
   "cell_type": "code",
   "execution_count": null,
   "metadata": {},
   "outputs": [],
   "source": []
  },
  {
   "cell_type": "code",
   "execution_count": null,
   "metadata": {},
   "outputs": [],
   "source": []
  },
  {
   "cell_type": "code",
   "execution_count": null,
   "metadata": {},
   "outputs": [],
   "source": []
  },
  {
   "attachments": {},
   "cell_type": "markdown",
   "metadata": {},
   "source": [
    "# To Do"
   ]
  },
  {
   "cell_type": "code",
   "execution_count": null,
   "metadata": {},
   "outputs": [],
   "source": [
    "# use further covariates in order for the cox model to converge\n",
    "# upload local git repo to github\n",
    "# compare model to normal regression model"
   ]
  }
 ],
 "metadata": {
  "kernelspec": {
   "display_name": "Python 3",
   "language": "python",
   "name": "python3"
  },
  "language_info": {
   "codemirror_mode": {
    "name": "ipython",
    "version": 3
   },
   "file_extension": ".py",
   "mimetype": "text/x-python",
   "name": "python",
   "nbconvert_exporter": "python",
   "pygments_lexer": "ipython3",
   "version": "3.7.16"
  },
  "orig_nbformat": 4
 },
 "nbformat": 4,
 "nbformat_minor": 2
}
